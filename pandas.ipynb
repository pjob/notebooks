{
 "metadata": {
  "name": "pandas"
 },
 "nbformat": 3,
 "nbformat_minor": 0,
 "worksheets": [
  {
   "cells": [
    {
     "cell_type": "code",
     "collapsed": false,
     "input": [
      "import pandas as pd\n",
      "import numpy as np"
     ],
     "language": "python",
     "metadata": {},
     "outputs": [],
     "prompt_number": 177
    },
    {
     "cell_type": "code",
     "collapsed": false,
     "input": [
      "pd.__version__"
     ],
     "language": "python",
     "metadata": {},
     "outputs": [
      {
       "output_type": "pyout",
       "prompt_number": 178,
       "text": [
        "'0.10.1'"
       ]
      }
     ],
     "prompt_number": 178
    },
    {
     "cell_type": "code",
     "collapsed": false,
     "input": [
      "np_rand = np.random.rand"
     ],
     "language": "python",
     "metadata": {},
     "outputs": [],
     "prompt_number": 179
    },
    {
     "cell_type": "code",
     "collapsed": false,
     "input": [
      "s = pd.Series(np_rand(5))"
     ],
     "language": "python",
     "metadata": {},
     "outputs": [],
     "prompt_number": 180
    },
    {
     "cell_type": "code",
     "collapsed": false,
     "input": [
      "s"
     ],
     "language": "python",
     "metadata": {},
     "outputs": [
      {
       "output_type": "pyout",
       "prompt_number": 181,
       "text": [
        "0    0.184019\n",
        "1    0.504898\n",
        "2    0.501990\n",
        "3    0.048490\n",
        "4    0.636900"
       ]
      }
     ],
     "prompt_number": 181
    },
    {
     "cell_type": "code",
     "collapsed": false,
     "input": [
      "type(s)"
     ],
     "language": "python",
     "metadata": {},
     "outputs": [
      {
       "output_type": "pyout",
       "prompt_number": 182,
       "text": [
        "pandas.core.series.Series"
       ]
      }
     ],
     "prompt_number": 182
    },
    {
     "cell_type": "code",
     "collapsed": false,
     "input": [
      "s[0]"
     ],
     "language": "python",
     "metadata": {},
     "outputs": [
      {
       "output_type": "pyout",
       "prompt_number": 183,
       "text": [
        "0.18401887060216404"
       ]
      }
     ],
     "prompt_number": 183
    },
    {
     "cell_type": "code",
     "collapsed": false,
     "input": [
      "s[1:3]"
     ],
     "language": "python",
     "metadata": {},
     "outputs": [
      {
       "output_type": "pyout",
       "prompt_number": 184,
       "text": [
        "1    0.504898\n",
        "2    0.501990"
       ]
      }
     ],
     "prompt_number": 184
    },
    {
     "cell_type": "code",
     "collapsed": false,
     "input": [
      "s*5"
     ],
     "language": "python",
     "metadata": {},
     "outputs": [
      {
       "output_type": "pyout",
       "prompt_number": 185,
       "text": [
        "0    0.920094\n",
        "1    2.524491\n",
        "2    2.509949\n",
        "3    0.242449\n",
        "4    3.184502"
       ]
      }
     ],
     "prompt_number": 185
    },
    {
     "cell_type": "code",
     "collapsed": false,
     "input": [
      "s - pd.Series(range(0,5))"
     ],
     "language": "python",
     "metadata": {},
     "outputs": [
      {
       "output_type": "pyout",
       "prompt_number": 186,
       "text": [
        "0    0.184019\n",
        "1   -0.495102\n",
        "2   -1.498010\n",
        "3   -2.951510\n",
        "4   -3.363100"
       ]
      }
     ],
     "prompt_number": 186
    },
    {
     "cell_type": "code",
     "collapsed": false,
     "input": [
      "s"
     ],
     "language": "python",
     "metadata": {},
     "outputs": [
      {
       "output_type": "pyout",
       "prompt_number": 187,
       "text": [
        "0    0.184019\n",
        "1    0.504898\n",
        "2    0.501990\n",
        "3    0.048490\n",
        "4    0.636900"
       ]
      }
     ],
     "prompt_number": 187
    },
    {
     "cell_type": "code",
     "collapsed": false,
     "input": [
      "s[s > s.median()]"
     ],
     "language": "python",
     "metadata": {},
     "outputs": [
      {
       "output_type": "pyout",
       "prompt_number": 188,
       "text": [
        "1    0.504898\n",
        "4    0.636900"
       ]
      }
     ],
     "prompt_number": 188
    },
    {
     "cell_type": "code",
     "collapsed": false,
     "input": [
      "s.index"
     ],
     "language": "python",
     "metadata": {},
     "outputs": [
      {
       "output_type": "pyout",
       "prompt_number": 189,
       "text": [
        "Int64Index([0, 1, 2, 3, 4], dtype=int64)"
       ]
      }
     ],
     "prompt_number": 189
    },
    {
     "cell_type": "code",
     "collapsed": false,
     "input": [
      "s.values"
     ],
     "language": "python",
     "metadata": {},
     "outputs": [
      {
       "output_type": "pyout",
       "prompt_number": 190,
       "text": [
        "array([ 0.18401887,  0.50489827,  0.50198976,  0.04848989,  0.63690043])"
       ]
      }
     ],
     "prompt_number": 190
    },
    {
     "cell_type": "code",
     "collapsed": false,
     "input": [
      "s.index = ['a', 'b', 'c', 'd', 'e']"
     ],
     "language": "python",
     "metadata": {},
     "outputs": [],
     "prompt_number": 191
    },
    {
     "cell_type": "code",
     "collapsed": false,
     "input": [
      "s"
     ],
     "language": "python",
     "metadata": {},
     "outputs": [
      {
       "output_type": "pyout",
       "prompt_number": 192,
       "text": [
        "a    0.184019\n",
        "b    0.504898\n",
        "c    0.501990\n",
        "d    0.048490\n",
        "e    0.636900"
       ]
      }
     ],
     "prompt_number": 192
    },
    {
     "cell_type": "code",
     "collapsed": false,
     "input": [
      "s.mean()"
     ],
     "language": "python",
     "metadata": {},
     "outputs": [
      {
       "output_type": "pyout",
       "prompt_number": 193,
       "text": [
        "0.37525944490836116"
       ]
      }
     ],
     "prompt_number": 193
    },
    {
     "cell_type": "code",
     "collapsed": false,
     "input": [
      "s.describe()"
     ],
     "language": "python",
     "metadata": {},
     "outputs": [
      {
       "output_type": "pyout",
       "prompt_number": 194,
       "text": [
        "count    5.000000\n",
        "mean     0.375259\n",
        "std      0.247323\n",
        "min      0.048490\n",
        "25%      0.184019\n",
        "50%      0.501990\n",
        "75%      0.504898\n",
        "max      0.636900"
       ]
      }
     ],
     "prompt_number": 194
    },
    {
     "cell_type": "code",
     "collapsed": false,
     "input": [
      "s.cumsum()"
     ],
     "language": "python",
     "metadata": {},
     "outputs": [
      {
       "output_type": "pyout",
       "prompt_number": 195,
       "text": [
        "a    0.184019\n",
        "b    0.688917\n",
        "c    1.190907\n",
        "d    1.239397\n",
        "e    1.876297"
       ]
      }
     ],
     "prompt_number": 195
    },
    {
     "cell_type": "code",
     "collapsed": false,
     "input": [
      "# DataFrame jawn"
     ],
     "language": "python",
     "metadata": {},
     "outputs": [],
     "prompt_number": 196
    },
    {
     "cell_type": "code",
     "collapsed": false,
     "input": [
      "df = pd.DataFrame({'one': np_rand(5), 'two': np_rand(5), 'three': np_rand(5), 'four': np_rand(5)})"
     ],
     "language": "python",
     "metadata": {},
     "outputs": [],
     "prompt_number": 197
    },
    {
     "cell_type": "code",
     "collapsed": false,
     "input": [
      "df"
     ],
     "language": "python",
     "metadata": {},
     "outputs": [
      {
       "html": [
        "<div style=\"max-height:1000px;max-width:1500px;overflow:auto;\">\n",
        "<table border=\"1\" class=\"dataframe\">\n",
        "  <thead>\n",
        "    <tr style=\"text-align: right;\">\n",
        "      <th></th>\n",
        "      <th>four</th>\n",
        "      <th>one</th>\n",
        "      <th>three</th>\n",
        "      <th>two</th>\n",
        "    </tr>\n",
        "  </thead>\n",
        "  <tbody>\n",
        "    <tr>\n",
        "      <th>0</th>\n",
        "      <td> 0.707182</td>\n",
        "      <td> 0.589984</td>\n",
        "      <td> 0.049796</td>\n",
        "      <td> 0.298499</td>\n",
        "    </tr>\n",
        "    <tr>\n",
        "      <th>1</th>\n",
        "      <td> 0.490101</td>\n",
        "      <td> 0.622402</td>\n",
        "      <td> 0.119753</td>\n",
        "      <td> 0.449194</td>\n",
        "    </tr>\n",
        "    <tr>\n",
        "      <th>2</th>\n",
        "      <td> 0.597078</td>\n",
        "      <td> 0.278572</td>\n",
        "      <td> 0.563097</td>\n",
        "      <td> 0.612519</td>\n",
        "    </tr>\n",
        "    <tr>\n",
        "      <th>3</th>\n",
        "      <td> 0.665049</td>\n",
        "      <td> 0.876800</td>\n",
        "      <td> 0.726779</td>\n",
        "      <td> 0.111396</td>\n",
        "    </tr>\n",
        "    <tr>\n",
        "      <th>4</th>\n",
        "      <td> 0.888272</td>\n",
        "      <td> 0.855507</td>\n",
        "      <td> 0.935755</td>\n",
        "      <td> 0.145445</td>\n",
        "    </tr>\n",
        "  </tbody>\n",
        "</table>\n",
        "</div>"
       ],
       "output_type": "pyout",
       "prompt_number": 198,
       "text": [
        "       four       one     three       two\n",
        "0  0.707182  0.589984  0.049796  0.298499\n",
        "1  0.490101  0.622402  0.119753  0.449194\n",
        "2  0.597078  0.278572  0.563097  0.612519\n",
        "3  0.665049  0.876800  0.726779  0.111396\n",
        "4  0.888272  0.855507  0.935755  0.145445"
       ]
      }
     ],
     "prompt_number": 198
    },
    {
     "cell_type": "code",
     "collapsed": false,
     "input": [
      "df.index"
     ],
     "language": "python",
     "metadata": {},
     "outputs": [
      {
       "output_type": "pyout",
       "prompt_number": 199,
       "text": [
        "Int64Index([0, 1, 2, 3, 4], dtype=int64)"
       ]
      }
     ],
     "prompt_number": 199
    },
    {
     "cell_type": "code",
     "collapsed": false,
     "input": [
      "df.values"
     ],
     "language": "python",
     "metadata": {},
     "outputs": [
      {
       "output_type": "pyout",
       "prompt_number": 200,
       "text": [
        "array([[ 0.70718186,  0.58998424,  0.04979611,  0.2984987 ],\n",
        "       [ 0.49010105,  0.62240214,  0.11975291,  0.44919372],\n",
        "       [ 0.59707785,  0.27857224,  0.56309731,  0.61251925],\n",
        "       [ 0.66504934,  0.87680018,  0.72677866,  0.11139612],\n",
        "       [ 0.88827225,  0.85550743,  0.93575547,  0.14544466]])"
       ]
      }
     ],
     "prompt_number": 200
    },
    {
     "cell_type": "code",
     "collapsed": false,
     "input": [
      "df.mean()"
     ],
     "language": "python",
     "metadata": {},
     "outputs": [
      {
       "output_type": "pyout",
       "prompt_number": 201,
       "text": [
        "four     0.669536\n",
        "one      0.644653\n",
        "three    0.479036\n",
        "two      0.323410"
       ]
      }
     ],
     "prompt_number": 201
    },
    {
     "cell_type": "code",
     "collapsed": false,
     "input": [
      "df.describe()"
     ],
     "language": "python",
     "metadata": {},
     "outputs": [
      {
       "html": [
        "<div style=\"max-height:1000px;max-width:1500px;overflow:auto;\">\n",
        "<table border=\"1\" class=\"dataframe\">\n",
        "  <thead>\n",
        "    <tr style=\"text-align: right;\">\n",
        "      <th></th>\n",
        "      <th>four</th>\n",
        "      <th>one</th>\n",
        "      <th>three</th>\n",
        "      <th>two</th>\n",
        "    </tr>\n",
        "  </thead>\n",
        "  <tbody>\n",
        "    <tr>\n",
        "      <th>count</th>\n",
        "      <td> 5.000000</td>\n",
        "      <td> 5.000000</td>\n",
        "      <td> 5.000000</td>\n",
        "      <td> 5.000000</td>\n",
        "    </tr>\n",
        "    <tr>\n",
        "      <th>mean</th>\n",
        "      <td> 0.669536</td>\n",
        "      <td> 0.644653</td>\n",
        "      <td> 0.479036</td>\n",
        "      <td> 0.323410</td>\n",
        "    </tr>\n",
        "    <tr>\n",
        "      <th>std</th>\n",
        "      <td> 0.147250</td>\n",
        "      <td> 0.242822</td>\n",
        "      <td> 0.384177</td>\n",
        "      <td> 0.210147</td>\n",
        "    </tr>\n",
        "    <tr>\n",
        "      <th>min</th>\n",
        "      <td> 0.490101</td>\n",
        "      <td> 0.278572</td>\n",
        "      <td> 0.049796</td>\n",
        "      <td> 0.111396</td>\n",
        "    </tr>\n",
        "    <tr>\n",
        "      <th>25%</th>\n",
        "      <td> 0.597078</td>\n",
        "      <td> 0.589984</td>\n",
        "      <td> 0.119753</td>\n",
        "      <td> 0.145445</td>\n",
        "    </tr>\n",
        "    <tr>\n",
        "      <th>50%</th>\n",
        "      <td> 0.665049</td>\n",
        "      <td> 0.622402</td>\n",
        "      <td> 0.563097</td>\n",
        "      <td> 0.298499</td>\n",
        "    </tr>\n",
        "    <tr>\n",
        "      <th>75%</th>\n",
        "      <td> 0.707182</td>\n",
        "      <td> 0.855507</td>\n",
        "      <td> 0.726779</td>\n",
        "      <td> 0.449194</td>\n",
        "    </tr>\n",
        "    <tr>\n",
        "      <th>max</th>\n",
        "      <td> 0.888272</td>\n",
        "      <td> 0.876800</td>\n",
        "      <td> 0.935755</td>\n",
        "      <td> 0.612519</td>\n",
        "    </tr>\n",
        "  </tbody>\n",
        "</table>\n",
        "</div>"
       ],
       "output_type": "pyout",
       "prompt_number": 202,
       "text": [
        "           four       one     three       two\n",
        "count  5.000000  5.000000  5.000000  5.000000\n",
        "mean   0.669536  0.644653  0.479036  0.323410\n",
        "std    0.147250  0.242822  0.384177  0.210147\n",
        "min    0.490101  0.278572  0.049796  0.111396\n",
        "25%    0.597078  0.589984  0.119753  0.145445\n",
        "50%    0.665049  0.622402  0.563097  0.298499\n",
        "75%    0.707182  0.855507  0.726779  0.449194\n",
        "max    0.888272  0.876800  0.935755  0.612519"
       ]
      }
     ],
     "prompt_number": 202
    },
    {
     "cell_type": "code",
     "collapsed": false,
     "input": [
      "df.cumsum()"
     ],
     "language": "python",
     "metadata": {},
     "outputs": [
      {
       "html": [
        "<div style=\"max-height:1000px;max-width:1500px;overflow:auto;\">\n",
        "<table border=\"1\" class=\"dataframe\">\n",
        "  <thead>\n",
        "    <tr style=\"text-align: right;\">\n",
        "      <th></th>\n",
        "      <th>four</th>\n",
        "      <th>one</th>\n",
        "      <th>three</th>\n",
        "      <th>two</th>\n",
        "    </tr>\n",
        "  </thead>\n",
        "  <tbody>\n",
        "    <tr>\n",
        "      <th>0</th>\n",
        "      <td> 0.707182</td>\n",
        "      <td> 0.589984</td>\n",
        "      <td> 0.049796</td>\n",
        "      <td> 0.298499</td>\n",
        "    </tr>\n",
        "    <tr>\n",
        "      <th>1</th>\n",
        "      <td> 1.197283</td>\n",
        "      <td> 1.212386</td>\n",
        "      <td> 0.169549</td>\n",
        "      <td> 0.747692</td>\n",
        "    </tr>\n",
        "    <tr>\n",
        "      <th>2</th>\n",
        "      <td> 1.794361</td>\n",
        "      <td> 1.490959</td>\n",
        "      <td> 0.732646</td>\n",
        "      <td> 1.360212</td>\n",
        "    </tr>\n",
        "    <tr>\n",
        "      <th>3</th>\n",
        "      <td> 2.459410</td>\n",
        "      <td> 2.367759</td>\n",
        "      <td> 1.459425</td>\n",
        "      <td> 1.471608</td>\n",
        "    </tr>\n",
        "    <tr>\n",
        "      <th>4</th>\n",
        "      <td> 3.347682</td>\n",
        "      <td> 3.223266</td>\n",
        "      <td> 2.395180</td>\n",
        "      <td> 1.617052</td>\n",
        "    </tr>\n",
        "  </tbody>\n",
        "</table>\n",
        "</div>"
       ],
       "output_type": "pyout",
       "prompt_number": 203,
       "text": [
        "       four       one     three       two\n",
        "0  0.707182  0.589984  0.049796  0.298499\n",
        "1  1.197283  1.212386  0.169549  0.747692\n",
        "2  1.794361  1.490959  0.732646  1.360212\n",
        "3  2.459410  2.367759  1.459425  1.471608\n",
        "4  3.347682  3.223266  2.395180  1.617052"
       ]
      }
     ],
     "prompt_number": 203
    },
    {
     "cell_type": "code",
     "collapsed": false,
     "input": [
      "df['four'].mean()"
     ],
     "language": "python",
     "metadata": {},
     "outputs": [
      {
       "output_type": "pyout",
       "prompt_number": 204,
       "text": [
        "0.66953646974576919"
       ]
      }
     ],
     "prompt_number": 204
    },
    {
     "cell_type": "code",
     "collapsed": false,
     "input": [
      "df.T"
     ],
     "language": "python",
     "metadata": {},
     "outputs": [
      {
       "html": [
        "<div style=\"max-height:1000px;max-width:1500px;overflow:auto;\">\n",
        "<table border=\"1\" class=\"dataframe\">\n",
        "  <thead>\n",
        "    <tr style=\"text-align: right;\">\n",
        "      <th></th>\n",
        "      <th>0</th>\n",
        "      <th>1</th>\n",
        "      <th>2</th>\n",
        "      <th>3</th>\n",
        "      <th>4</th>\n",
        "    </tr>\n",
        "  </thead>\n",
        "  <tbody>\n",
        "    <tr>\n",
        "      <th>four</th>\n",
        "      <td> 0.707182</td>\n",
        "      <td> 0.490101</td>\n",
        "      <td> 0.597078</td>\n",
        "      <td> 0.665049</td>\n",
        "      <td> 0.888272</td>\n",
        "    </tr>\n",
        "    <tr>\n",
        "      <th>one</th>\n",
        "      <td> 0.589984</td>\n",
        "      <td> 0.622402</td>\n",
        "      <td> 0.278572</td>\n",
        "      <td> 0.876800</td>\n",
        "      <td> 0.855507</td>\n",
        "    </tr>\n",
        "    <tr>\n",
        "      <th>three</th>\n",
        "      <td> 0.049796</td>\n",
        "      <td> 0.119753</td>\n",
        "      <td> 0.563097</td>\n",
        "      <td> 0.726779</td>\n",
        "      <td> 0.935755</td>\n",
        "    </tr>\n",
        "    <tr>\n",
        "      <th>two</th>\n",
        "      <td> 0.298499</td>\n",
        "      <td> 0.449194</td>\n",
        "      <td> 0.612519</td>\n",
        "      <td> 0.111396</td>\n",
        "      <td> 0.145445</td>\n",
        "    </tr>\n",
        "  </tbody>\n",
        "</table>\n",
        "</div>"
       ],
       "output_type": "pyout",
       "prompt_number": 205,
       "text": [
        "              0         1         2         3         4\n",
        "four   0.707182  0.490101  0.597078  0.665049  0.888272\n",
        "one    0.589984  0.622402  0.278572  0.876800  0.855507\n",
        "three  0.049796  0.119753  0.563097  0.726779  0.935755\n",
        "two    0.298499  0.449194  0.612519  0.111396  0.145445"
       ]
      }
     ],
     "prompt_number": 205
    },
    {
     "cell_type": "code",
     "collapsed": false,
     "input": [
      "df.sort('one', ascending=False)"
     ],
     "language": "python",
     "metadata": {},
     "outputs": [
      {
       "html": [
        "<div style=\"max-height:1000px;max-width:1500px;overflow:auto;\">\n",
        "<table border=\"1\" class=\"dataframe\">\n",
        "  <thead>\n",
        "    <tr style=\"text-align: right;\">\n",
        "      <th></th>\n",
        "      <th>four</th>\n",
        "      <th>one</th>\n",
        "      <th>three</th>\n",
        "      <th>two</th>\n",
        "    </tr>\n",
        "  </thead>\n",
        "  <tbody>\n",
        "    <tr>\n",
        "      <th>3</th>\n",
        "      <td> 0.665049</td>\n",
        "      <td> 0.876800</td>\n",
        "      <td> 0.726779</td>\n",
        "      <td> 0.111396</td>\n",
        "    </tr>\n",
        "    <tr>\n",
        "      <th>4</th>\n",
        "      <td> 0.888272</td>\n",
        "      <td> 0.855507</td>\n",
        "      <td> 0.935755</td>\n",
        "      <td> 0.145445</td>\n",
        "    </tr>\n",
        "    <tr>\n",
        "      <th>1</th>\n",
        "      <td> 0.490101</td>\n",
        "      <td> 0.622402</td>\n",
        "      <td> 0.119753</td>\n",
        "      <td> 0.449194</td>\n",
        "    </tr>\n",
        "    <tr>\n",
        "      <th>0</th>\n",
        "      <td> 0.707182</td>\n",
        "      <td> 0.589984</td>\n",
        "      <td> 0.049796</td>\n",
        "      <td> 0.298499</td>\n",
        "    </tr>\n",
        "    <tr>\n",
        "      <th>2</th>\n",
        "      <td> 0.597078</td>\n",
        "      <td> 0.278572</td>\n",
        "      <td> 0.563097</td>\n",
        "      <td> 0.612519</td>\n",
        "    </tr>\n",
        "  </tbody>\n",
        "</table>\n",
        "</div>"
       ],
       "output_type": "pyout",
       "prompt_number": 206,
       "text": [
        "       four       one     three       two\n",
        "3  0.665049  0.876800  0.726779  0.111396\n",
        "4  0.888272  0.855507  0.935755  0.145445\n",
        "1  0.490101  0.622402  0.119753  0.449194\n",
        "0  0.707182  0.589984  0.049796  0.298499\n",
        "2  0.597078  0.278572  0.563097  0.612519"
       ]
      }
     ],
     "prompt_number": 206
    },
    {
     "cell_type": "code",
     "collapsed": false,
     "input": [
      "df *3"
     ],
     "language": "python",
     "metadata": {},
     "outputs": [
      {
       "html": [
        "<div style=\"max-height:1000px;max-width:1500px;overflow:auto;\">\n",
        "<table border=\"1\" class=\"dataframe\">\n",
        "  <thead>\n",
        "    <tr style=\"text-align: right;\">\n",
        "      <th></th>\n",
        "      <th>four</th>\n",
        "      <th>one</th>\n",
        "      <th>three</th>\n",
        "      <th>two</th>\n",
        "    </tr>\n",
        "  </thead>\n",
        "  <tbody>\n",
        "    <tr>\n",
        "      <th>0</th>\n",
        "      <td> 2.121546</td>\n",
        "      <td> 1.769953</td>\n",
        "      <td> 0.149388</td>\n",
        "      <td> 0.895496</td>\n",
        "    </tr>\n",
        "    <tr>\n",
        "      <th>1</th>\n",
        "      <td> 1.470303</td>\n",
        "      <td> 1.867206</td>\n",
        "      <td> 0.359259</td>\n",
        "      <td> 1.347581</td>\n",
        "    </tr>\n",
        "    <tr>\n",
        "      <th>2</th>\n",
        "      <td> 1.791234</td>\n",
        "      <td> 0.835717</td>\n",
        "      <td> 1.689292</td>\n",
        "      <td> 1.837558</td>\n",
        "    </tr>\n",
        "    <tr>\n",
        "      <th>3</th>\n",
        "      <td> 1.995148</td>\n",
        "      <td> 2.630401</td>\n",
        "      <td> 2.180336</td>\n",
        "      <td> 0.334188</td>\n",
        "    </tr>\n",
        "    <tr>\n",
        "      <th>4</th>\n",
        "      <td> 2.664817</td>\n",
        "      <td> 2.566522</td>\n",
        "      <td> 2.807266</td>\n",
        "      <td> 0.436334</td>\n",
        "    </tr>\n",
        "  </tbody>\n",
        "</table>\n",
        "</div>"
       ],
       "output_type": "pyout",
       "prompt_number": 207,
       "text": [
        "       four       one     three       two\n",
        "0  2.121546  1.769953  0.149388  0.895496\n",
        "1  1.470303  1.867206  0.359259  1.347581\n",
        "2  1.791234  0.835717  1.689292  1.837558\n",
        "3  1.995148  2.630401  2.180336  0.334188\n",
        "4  2.664817  2.566522  2.807266  0.436334"
       ]
      }
     ],
     "prompt_number": 207
    },
    {
     "cell_type": "code",
     "collapsed": false,
     "input": [
      "df[['one', 'two']]"
     ],
     "language": "python",
     "metadata": {},
     "outputs": [
      {
       "html": [
        "<div style=\"max-height:1000px;max-width:1500px;overflow:auto;\">\n",
        "<table border=\"1\" class=\"dataframe\">\n",
        "  <thead>\n",
        "    <tr style=\"text-align: right;\">\n",
        "      <th></th>\n",
        "      <th>one</th>\n",
        "      <th>two</th>\n",
        "    </tr>\n",
        "  </thead>\n",
        "  <tbody>\n",
        "    <tr>\n",
        "      <th>0</th>\n",
        "      <td> 0.589984</td>\n",
        "      <td> 0.298499</td>\n",
        "    </tr>\n",
        "    <tr>\n",
        "      <th>1</th>\n",
        "      <td> 0.622402</td>\n",
        "      <td> 0.449194</td>\n",
        "    </tr>\n",
        "    <tr>\n",
        "      <th>2</th>\n",
        "      <td> 0.278572</td>\n",
        "      <td> 0.612519</td>\n",
        "    </tr>\n",
        "    <tr>\n",
        "      <th>3</th>\n",
        "      <td> 0.876800</td>\n",
        "      <td> 0.111396</td>\n",
        "    </tr>\n",
        "    <tr>\n",
        "      <th>4</th>\n",
        "      <td> 0.855507</td>\n",
        "      <td> 0.145445</td>\n",
        "    </tr>\n",
        "  </tbody>\n",
        "</table>\n",
        "</div>"
       ],
       "output_type": "pyout",
       "prompt_number": 208,
       "text": [
        "        one       two\n",
        "0  0.589984  0.298499\n",
        "1  0.622402  0.449194\n",
        "2  0.278572  0.612519\n",
        "3  0.876800  0.111396\n",
        "4  0.855507  0.145445"
       ]
      }
     ],
     "prompt_number": 208
    },
    {
     "cell_type": "code",
     "collapsed": false,
     "input": [
      "df[df.one > df.three.sum()]"
     ],
     "language": "python",
     "metadata": {},
     "outputs": [
      {
       "html": [
        "<div style=\"max-height:1000px;max-width:1500px;overflow:auto;\">\n",
        "<table border=\"1\" class=\"dataframe\">\n",
        "  <tbody>\n",
        "    <tr>\n",
        "      <td>Int64Index([], dtype=int64)</td>\n",
        "      <td>Empty DataFrame</td>\n",
        "    </tr>\n",
        "  </tbody>\n",
        "</table>\n",
        "</div>"
       ],
       "output_type": "pyout",
       "prompt_number": 209,
       "text": [
        "Empty DataFrame\n",
        "Columns: [four, one, three, two]\n",
        "Index: []"
       ]
      }
     ],
     "prompt_number": 209
    },
    {
     "cell_type": "code",
     "collapsed": false,
     "input": [
      "df.ix[0:3][['one', 'four']]"
     ],
     "language": "python",
     "metadata": {},
     "outputs": [
      {
       "html": [
        "<div style=\"max-height:1000px;max-width:1500px;overflow:auto;\">\n",
        "<table border=\"1\" class=\"dataframe\">\n",
        "  <thead>\n",
        "    <tr style=\"text-align: right;\">\n",
        "      <th></th>\n",
        "      <th>one</th>\n",
        "      <th>four</th>\n",
        "    </tr>\n",
        "  </thead>\n",
        "  <tbody>\n",
        "    <tr>\n",
        "      <th>0</th>\n",
        "      <td> 0.589984</td>\n",
        "      <td> 0.707182</td>\n",
        "    </tr>\n",
        "    <tr>\n",
        "      <th>1</th>\n",
        "      <td> 0.622402</td>\n",
        "      <td> 0.490101</td>\n",
        "    </tr>\n",
        "    <tr>\n",
        "      <th>2</th>\n",
        "      <td> 0.278572</td>\n",
        "      <td> 0.597078</td>\n",
        "    </tr>\n",
        "    <tr>\n",
        "      <th>3</th>\n",
        "      <td> 0.876800</td>\n",
        "      <td> 0.665049</td>\n",
        "    </tr>\n",
        "  </tbody>\n",
        "</table>\n",
        "</div>"
       ],
       "output_type": "pyout",
       "prompt_number": 210,
       "text": [
        "        one      four\n",
        "0  0.589984  0.707182\n",
        "1  0.622402  0.490101\n",
        "2  0.278572  0.597078\n",
        "3  0.876800  0.665049"
       ]
      }
     ],
     "prompt_number": 210
    },
    {
     "cell_type": "code",
     "collapsed": false,
     "input": [
      "df.index = ['a', 'b', 'c', 'd', 'e']"
     ],
     "language": "python",
     "metadata": {},
     "outputs": [],
     "prompt_number": 211
    },
    {
     "cell_type": "code",
     "collapsed": false,
     "input": [
      "df"
     ],
     "language": "python",
     "metadata": {},
     "outputs": [
      {
       "html": [
        "<div style=\"max-height:1000px;max-width:1500px;overflow:auto;\">\n",
        "<table border=\"1\" class=\"dataframe\">\n",
        "  <thead>\n",
        "    <tr style=\"text-align: right;\">\n",
        "      <th></th>\n",
        "      <th>four</th>\n",
        "      <th>one</th>\n",
        "      <th>three</th>\n",
        "      <th>two</th>\n",
        "    </tr>\n",
        "  </thead>\n",
        "  <tbody>\n",
        "    <tr>\n",
        "      <th>a</th>\n",
        "      <td> 0.707182</td>\n",
        "      <td> 0.589984</td>\n",
        "      <td> 0.049796</td>\n",
        "      <td> 0.298499</td>\n",
        "    </tr>\n",
        "    <tr>\n",
        "      <th>b</th>\n",
        "      <td> 0.490101</td>\n",
        "      <td> 0.622402</td>\n",
        "      <td> 0.119753</td>\n",
        "      <td> 0.449194</td>\n",
        "    </tr>\n",
        "    <tr>\n",
        "      <th>c</th>\n",
        "      <td> 0.597078</td>\n",
        "      <td> 0.278572</td>\n",
        "      <td> 0.563097</td>\n",
        "      <td> 0.612519</td>\n",
        "    </tr>\n",
        "    <tr>\n",
        "      <th>d</th>\n",
        "      <td> 0.665049</td>\n",
        "      <td> 0.876800</td>\n",
        "      <td> 0.726779</td>\n",
        "      <td> 0.111396</td>\n",
        "    </tr>\n",
        "    <tr>\n",
        "      <th>e</th>\n",
        "      <td> 0.888272</td>\n",
        "      <td> 0.855507</td>\n",
        "      <td> 0.935755</td>\n",
        "      <td> 0.145445</td>\n",
        "    </tr>\n",
        "  </tbody>\n",
        "</table>\n",
        "</div>"
       ],
       "output_type": "pyout",
       "prompt_number": 212,
       "text": [
        "       four       one     three       two\n",
        "a  0.707182  0.589984  0.049796  0.298499\n",
        "b  0.490101  0.622402  0.119753  0.449194\n",
        "c  0.597078  0.278572  0.563097  0.612519\n",
        "d  0.665049  0.876800  0.726779  0.111396\n",
        "e  0.888272  0.855507  0.935755  0.145445"
       ]
      }
     ],
     "prompt_number": 212
    },
    {
     "cell_type": "code",
     "collapsed": false,
     "input": [
      "df['titles'] = [s.upper() for s in df.index]"
     ],
     "language": "python",
     "metadata": {},
     "outputs": [],
     "prompt_number": 213
    },
    {
     "cell_type": "code",
     "collapsed": false,
     "input": [
      "df"
     ],
     "language": "python",
     "metadata": {},
     "outputs": [
      {
       "html": [
        "<div style=\"max-height:1000px;max-width:1500px;overflow:auto;\">\n",
        "<table border=\"1\" class=\"dataframe\">\n",
        "  <thead>\n",
        "    <tr style=\"text-align: right;\">\n",
        "      <th></th>\n",
        "      <th>four</th>\n",
        "      <th>one</th>\n",
        "      <th>three</th>\n",
        "      <th>two</th>\n",
        "      <th>titles</th>\n",
        "    </tr>\n",
        "  </thead>\n",
        "  <tbody>\n",
        "    <tr>\n",
        "      <th>a</th>\n",
        "      <td> 0.707182</td>\n",
        "      <td> 0.589984</td>\n",
        "      <td> 0.049796</td>\n",
        "      <td> 0.298499</td>\n",
        "      <td> A</td>\n",
        "    </tr>\n",
        "    <tr>\n",
        "      <th>b</th>\n",
        "      <td> 0.490101</td>\n",
        "      <td> 0.622402</td>\n",
        "      <td> 0.119753</td>\n",
        "      <td> 0.449194</td>\n",
        "      <td> B</td>\n",
        "    </tr>\n",
        "    <tr>\n",
        "      <th>c</th>\n",
        "      <td> 0.597078</td>\n",
        "      <td> 0.278572</td>\n",
        "      <td> 0.563097</td>\n",
        "      <td> 0.612519</td>\n",
        "      <td> C</td>\n",
        "    </tr>\n",
        "    <tr>\n",
        "      <th>d</th>\n",
        "      <td> 0.665049</td>\n",
        "      <td> 0.876800</td>\n",
        "      <td> 0.726779</td>\n",
        "      <td> 0.111396</td>\n",
        "      <td> D</td>\n",
        "    </tr>\n",
        "    <tr>\n",
        "      <th>e</th>\n",
        "      <td> 0.888272</td>\n",
        "      <td> 0.855507</td>\n",
        "      <td> 0.935755</td>\n",
        "      <td> 0.145445</td>\n",
        "      <td> E</td>\n",
        "    </tr>\n",
        "  </tbody>\n",
        "</table>\n",
        "</div>"
       ],
       "output_type": "pyout",
       "prompt_number": 214,
       "text": [
        "       four       one     three       two titles\n",
        "a  0.707182  0.589984  0.049796  0.298499      A\n",
        "b  0.490101  0.622402  0.119753  0.449194      B\n",
        "c  0.597078  0.278572  0.563097  0.612519      C\n",
        "d  0.665049  0.876800  0.726779  0.111396      D\n",
        "e  0.888272  0.855507  0.935755  0.145445      E"
       ]
      }
     ],
     "prompt_number": 214
    },
    {
     "cell_type": "code",
     "collapsed": false,
     "input": [
      "df = df.set_index('titles')"
     ],
     "language": "python",
     "metadata": {},
     "outputs": [],
     "prompt_number": 215
    },
    {
     "cell_type": "code",
     "collapsed": false,
     "input": [
      "df.index"
     ],
     "language": "python",
     "metadata": {},
     "outputs": [
      {
       "output_type": "pyout",
       "prompt_number": 216,
       "text": [
        "Index([A, B, C, D, E], dtype=object)"
       ]
      }
     ],
     "prompt_number": 216
    },
    {
     "cell_type": "code",
     "collapsed": false,
     "input": [
      "df.reindex_axis(['one', 'two', 'three', 'four'], axis=1)"
     ],
     "language": "python",
     "metadata": {},
     "outputs": [
      {
       "html": [
        "<div style=\"max-height:1000px;max-width:1500px;overflow:auto;\">\n",
        "<table border=\"1\" class=\"dataframe\">\n",
        "  <thead>\n",
        "    <tr style=\"text-align: right;\">\n",
        "      <th></th>\n",
        "      <th>one</th>\n",
        "      <th>two</th>\n",
        "      <th>three</th>\n",
        "      <th>four</th>\n",
        "    </tr>\n",
        "    <tr>\n",
        "      <th>titles</th>\n",
        "      <th></th>\n",
        "      <th></th>\n",
        "      <th></th>\n",
        "      <th></th>\n",
        "    </tr>\n",
        "  </thead>\n",
        "  <tbody>\n",
        "    <tr>\n",
        "      <th>A</th>\n",
        "      <td> 0.589984</td>\n",
        "      <td> 0.298499</td>\n",
        "      <td> 0.049796</td>\n",
        "      <td> 0.707182</td>\n",
        "    </tr>\n",
        "    <tr>\n",
        "      <th>B</th>\n",
        "      <td> 0.622402</td>\n",
        "      <td> 0.449194</td>\n",
        "      <td> 0.119753</td>\n",
        "      <td> 0.490101</td>\n",
        "    </tr>\n",
        "    <tr>\n",
        "      <th>C</th>\n",
        "      <td> 0.278572</td>\n",
        "      <td> 0.612519</td>\n",
        "      <td> 0.563097</td>\n",
        "      <td> 0.597078</td>\n",
        "    </tr>\n",
        "    <tr>\n",
        "      <th>D</th>\n",
        "      <td> 0.876800</td>\n",
        "      <td> 0.111396</td>\n",
        "      <td> 0.726779</td>\n",
        "      <td> 0.665049</td>\n",
        "    </tr>\n",
        "    <tr>\n",
        "      <th>E</th>\n",
        "      <td> 0.855507</td>\n",
        "      <td> 0.145445</td>\n",
        "      <td> 0.935755</td>\n",
        "      <td> 0.888272</td>\n",
        "    </tr>\n",
        "  </tbody>\n",
        "</table>\n",
        "</div>"
       ],
       "output_type": "pyout",
       "prompt_number": 217,
       "text": [
        "             one       two     three      four\n",
        "titles                                        \n",
        "A       0.589984  0.298499  0.049796  0.707182\n",
        "B       0.622402  0.449194  0.119753  0.490101\n",
        "C       0.278572  0.612519  0.563097  0.597078\n",
        "D       0.876800  0.111396  0.726779  0.665049\n",
        "E       0.855507  0.145445  0.935755  0.888272"
       ]
      }
     ],
     "prompt_number": 217
    },
    {
     "cell_type": "code",
     "collapsed": false,
     "input": [
      "df.mean()"
     ],
     "language": "python",
     "metadata": {},
     "outputs": [
      {
       "output_type": "pyout",
       "prompt_number": 218,
       "text": [
        "four     0.669536\n",
        "one      0.644653\n",
        "three    0.479036\n",
        "two      0.323410"
       ]
      }
     ],
     "prompt_number": 218
    },
    {
     "cell_type": "code",
     "collapsed": false,
     "input": [
      "df.mean(1)"
     ],
     "language": "python",
     "metadata": {},
     "outputs": [
      {
       "output_type": "pyout",
       "prompt_number": 219,
       "text": [
        "titles\n",
        "A         0.411365\n",
        "B         0.420362\n",
        "C         0.512817\n",
        "D         0.595006\n",
        "E         0.706245"
       ]
      }
     ],
     "prompt_number": 219
    },
    {
     "cell_type": "code",
     "collapsed": false,
     "input": [
      "df.apply(np.cumsum)"
     ],
     "language": "python",
     "metadata": {},
     "outputs": [
      {
       "html": [
        "<div style=\"max-height:1000px;max-width:1500px;overflow:auto;\">\n",
        "<table border=\"1\" class=\"dataframe\">\n",
        "  <thead>\n",
        "    <tr style=\"text-align: right;\">\n",
        "      <th></th>\n",
        "      <th>four</th>\n",
        "      <th>one</th>\n",
        "      <th>three</th>\n",
        "      <th>two</th>\n",
        "    </tr>\n",
        "    <tr>\n",
        "      <th>titles</th>\n",
        "      <th></th>\n",
        "      <th></th>\n",
        "      <th></th>\n",
        "      <th></th>\n",
        "    </tr>\n",
        "  </thead>\n",
        "  <tbody>\n",
        "    <tr>\n",
        "      <th>A</th>\n",
        "      <td> 0.707182</td>\n",
        "      <td> 0.589984</td>\n",
        "      <td> 0.049796</td>\n",
        "      <td> 0.298499</td>\n",
        "    </tr>\n",
        "    <tr>\n",
        "      <th>B</th>\n",
        "      <td> 1.197283</td>\n",
        "      <td> 1.212386</td>\n",
        "      <td> 0.169549</td>\n",
        "      <td> 0.747692</td>\n",
        "    </tr>\n",
        "    <tr>\n",
        "      <th>C</th>\n",
        "      <td> 1.794361</td>\n",
        "      <td> 1.490959</td>\n",
        "      <td> 0.732646</td>\n",
        "      <td> 1.360212</td>\n",
        "    </tr>\n",
        "    <tr>\n",
        "      <th>D</th>\n",
        "      <td> 2.459410</td>\n",
        "      <td> 2.367759</td>\n",
        "      <td> 1.459425</td>\n",
        "      <td> 1.471608</td>\n",
        "    </tr>\n",
        "    <tr>\n",
        "      <th>E</th>\n",
        "      <td> 3.347682</td>\n",
        "      <td> 3.223266</td>\n",
        "      <td> 2.395180</td>\n",
        "      <td> 1.617052</td>\n",
        "    </tr>\n",
        "  </tbody>\n",
        "</table>\n",
        "</div>"
       ],
       "output_type": "pyout",
       "prompt_number": 220,
       "text": [
        "            four       one     three       two\n",
        "titles                                        \n",
        "A       0.707182  0.589984  0.049796  0.298499\n",
        "B       1.197283  1.212386  0.169549  0.747692\n",
        "C       1.794361  1.490959  0.732646  1.360212\n",
        "D       2.459410  2.367759  1.459425  1.471608\n",
        "E       3.347682  3.223266  2.395180  1.617052"
       ]
      }
     ],
     "prompt_number": 220
    },
    {
     "cell_type": "code",
     "collapsed": false,
     "input": [
      "df.applymap(lambda x: '{:.2f}'.format(x))"
     ],
     "language": "python",
     "metadata": {},
     "outputs": [
      {
       "html": [
        "<div style=\"max-height:1000px;max-width:1500px;overflow:auto;\">\n",
        "<table border=\"1\" class=\"dataframe\">\n",
        "  <thead>\n",
        "    <tr style=\"text-align: right;\">\n",
        "      <th></th>\n",
        "      <th>four</th>\n",
        "      <th>one</th>\n",
        "      <th>three</th>\n",
        "      <th>two</th>\n",
        "    </tr>\n",
        "    <tr>\n",
        "      <th>titles</th>\n",
        "      <th></th>\n",
        "      <th></th>\n",
        "      <th></th>\n",
        "      <th></th>\n",
        "    </tr>\n",
        "  </thead>\n",
        "  <tbody>\n",
        "    <tr>\n",
        "      <th>A</th>\n",
        "      <td> 0.71</td>\n",
        "      <td> 0.59</td>\n",
        "      <td> 0.05</td>\n",
        "      <td> 0.30</td>\n",
        "    </tr>\n",
        "    <tr>\n",
        "      <th>B</th>\n",
        "      <td> 0.49</td>\n",
        "      <td> 0.62</td>\n",
        "      <td> 0.12</td>\n",
        "      <td> 0.45</td>\n",
        "    </tr>\n",
        "    <tr>\n",
        "      <th>C</th>\n",
        "      <td> 0.60</td>\n",
        "      <td> 0.28</td>\n",
        "      <td> 0.56</td>\n",
        "      <td> 0.61</td>\n",
        "    </tr>\n",
        "    <tr>\n",
        "      <th>D</th>\n",
        "      <td> 0.67</td>\n",
        "      <td> 0.88</td>\n",
        "      <td> 0.73</td>\n",
        "      <td> 0.11</td>\n",
        "    </tr>\n",
        "    <tr>\n",
        "      <th>E</th>\n",
        "      <td> 0.89</td>\n",
        "      <td> 0.86</td>\n",
        "      <td> 0.94</td>\n",
        "      <td> 0.15</td>\n",
        "    </tr>\n",
        "  </tbody>\n",
        "</table>\n",
        "</div>"
       ],
       "output_type": "pyout",
       "prompt_number": 221,
       "text": [
        "        four   one three   two\n",
        "titles                        \n",
        "A       0.71  0.59  0.05  0.30\n",
        "B       0.49  0.62  0.12  0.45\n",
        "C       0.60  0.28  0.56  0.61\n",
        "D       0.67  0.88  0.73  0.11\n",
        "E       0.89  0.86  0.94  0.15"
       ]
      }
     ],
     "prompt_number": 221
    },
    {
     "cell_type": "code",
     "collapsed": false,
     "input": [],
     "language": "python",
     "metadata": {},
     "outputs": [],
     "prompt_number": 221
    },
    {
     "cell_type": "code",
     "collapsed": false,
     "input": [
      "pd.concat([df[0:2], df[3:4]])"
     ],
     "language": "python",
     "metadata": {},
     "outputs": [
      {
       "html": [
        "<div style=\"max-height:1000px;max-width:1500px;overflow:auto;\">\n",
        "<table border=\"1\" class=\"dataframe\">\n",
        "  <thead>\n",
        "    <tr style=\"text-align: right;\">\n",
        "      <th></th>\n",
        "      <th>four</th>\n",
        "      <th>one</th>\n",
        "      <th>three</th>\n",
        "      <th>two</th>\n",
        "    </tr>\n",
        "    <tr>\n",
        "      <th>titles</th>\n",
        "      <th></th>\n",
        "      <th></th>\n",
        "      <th></th>\n",
        "      <th></th>\n",
        "    </tr>\n",
        "  </thead>\n",
        "  <tbody>\n",
        "    <tr>\n",
        "      <th>A</th>\n",
        "      <td> 0.707182</td>\n",
        "      <td> 0.589984</td>\n",
        "      <td> 0.049796</td>\n",
        "      <td> 0.298499</td>\n",
        "    </tr>\n",
        "    <tr>\n",
        "      <th>B</th>\n",
        "      <td> 0.490101</td>\n",
        "      <td> 0.622402</td>\n",
        "      <td> 0.119753</td>\n",
        "      <td> 0.449194</td>\n",
        "    </tr>\n",
        "    <tr>\n",
        "      <th>D</th>\n",
        "      <td> 0.665049</td>\n",
        "      <td> 0.876800</td>\n",
        "      <td> 0.726779</td>\n",
        "      <td> 0.111396</td>\n",
        "    </tr>\n",
        "  </tbody>\n",
        "</table>\n",
        "</div>"
       ],
       "output_type": "pyout",
       "prompt_number": 222,
       "text": [
        "            four       one     three       two\n",
        "titles                                        \n",
        "A       0.707182  0.589984  0.049796  0.298499\n",
        "B       0.490101  0.622402  0.119753  0.449194\n",
        "D       0.665049  0.876800  0.726779  0.111396"
       ]
      }
     ],
     "prompt_number": 222
    },
    {
     "cell_type": "code",
     "collapsed": false,
     "input": [
      "df[0:2]"
     ],
     "language": "python",
     "metadata": {},
     "outputs": [
      {
       "html": [
        "<div style=\"max-height:1000px;max-width:1500px;overflow:auto;\">\n",
        "<table border=\"1\" class=\"dataframe\">\n",
        "  <thead>\n",
        "    <tr style=\"text-align: right;\">\n",
        "      <th></th>\n",
        "      <th>four</th>\n",
        "      <th>one</th>\n",
        "      <th>three</th>\n",
        "      <th>two</th>\n",
        "    </tr>\n",
        "    <tr>\n",
        "      <th>titles</th>\n",
        "      <th></th>\n",
        "      <th></th>\n",
        "      <th></th>\n",
        "      <th></th>\n",
        "    </tr>\n",
        "  </thead>\n",
        "  <tbody>\n",
        "    <tr>\n",
        "      <th>A</th>\n",
        "      <td> 0.707182</td>\n",
        "      <td> 0.589984</td>\n",
        "      <td> 0.049796</td>\n",
        "      <td> 0.298499</td>\n",
        "    </tr>\n",
        "    <tr>\n",
        "      <th>B</th>\n",
        "      <td> 0.490101</td>\n",
        "      <td> 0.622402</td>\n",
        "      <td> 0.119753</td>\n",
        "      <td> 0.449194</td>\n",
        "    </tr>\n",
        "  </tbody>\n",
        "</table>\n",
        "</div>"
       ],
       "output_type": "pyout",
       "prompt_number": 223,
       "text": [
        "            four       one     three       two\n",
        "titles                                        \n",
        "A       0.707182  0.589984  0.049796  0.298499\n",
        "B       0.490101  0.622402  0.119753  0.449194"
       ]
      }
     ],
     "prompt_number": 223
    },
    {
     "cell_type": "code",
     "collapsed": false,
     "input": [
      "df[3:4]"
     ],
     "language": "python",
     "metadata": {},
     "outputs": [
      {
       "html": [
        "<div style=\"max-height:1000px;max-width:1500px;overflow:auto;\">\n",
        "<table border=\"1\" class=\"dataframe\">\n",
        "  <thead>\n",
        "    <tr style=\"text-align: right;\">\n",
        "      <th></th>\n",
        "      <th>four</th>\n",
        "      <th>one</th>\n",
        "      <th>three</th>\n",
        "      <th>two</th>\n",
        "    </tr>\n",
        "    <tr>\n",
        "      <th>titles</th>\n",
        "      <th></th>\n",
        "      <th></th>\n",
        "      <th></th>\n",
        "      <th></th>\n",
        "    </tr>\n",
        "  </thead>\n",
        "  <tbody>\n",
        "    <tr>\n",
        "      <th>D</th>\n",
        "      <td> 0.665049</td>\n",
        "      <td> 0.8768</td>\n",
        "      <td> 0.726779</td>\n",
        "      <td> 0.111396</td>\n",
        "    </tr>\n",
        "  </tbody>\n",
        "</table>\n",
        "</div>"
       ],
       "output_type": "pyout",
       "prompt_number": 224,
       "text": [
        "            four     one     three       two\n",
        "titles                                      \n",
        "D       0.665049  0.8768  0.726779  0.111396"
       ]
      }
     ],
     "prompt_number": 224
    },
    {
     "cell_type": "code",
     "collapsed": false,
     "input": [
      "df"
     ],
     "language": "python",
     "metadata": {},
     "outputs": [
      {
       "html": [
        "<div style=\"max-height:1000px;max-width:1500px;overflow:auto;\">\n",
        "<table border=\"1\" class=\"dataframe\">\n",
        "  <thead>\n",
        "    <tr style=\"text-align: right;\">\n",
        "      <th></th>\n",
        "      <th>four</th>\n",
        "      <th>one</th>\n",
        "      <th>three</th>\n",
        "      <th>two</th>\n",
        "    </tr>\n",
        "    <tr>\n",
        "      <th>titles</th>\n",
        "      <th></th>\n",
        "      <th></th>\n",
        "      <th></th>\n",
        "      <th></th>\n",
        "    </tr>\n",
        "  </thead>\n",
        "  <tbody>\n",
        "    <tr>\n",
        "      <th>A</th>\n",
        "      <td> 0.707182</td>\n",
        "      <td> 0.589984</td>\n",
        "      <td> 0.049796</td>\n",
        "      <td> 0.298499</td>\n",
        "    </tr>\n",
        "    <tr>\n",
        "      <th>B</th>\n",
        "      <td> 0.490101</td>\n",
        "      <td> 0.622402</td>\n",
        "      <td> 0.119753</td>\n",
        "      <td> 0.449194</td>\n",
        "    </tr>\n",
        "    <tr>\n",
        "      <th>C</th>\n",
        "      <td> 0.597078</td>\n",
        "      <td> 0.278572</td>\n",
        "      <td> 0.563097</td>\n",
        "      <td> 0.612519</td>\n",
        "    </tr>\n",
        "    <tr>\n",
        "      <th>D</th>\n",
        "      <td> 0.665049</td>\n",
        "      <td> 0.876800</td>\n",
        "      <td> 0.726779</td>\n",
        "      <td> 0.111396</td>\n",
        "    </tr>\n",
        "    <tr>\n",
        "      <th>E</th>\n",
        "      <td> 0.888272</td>\n",
        "      <td> 0.855507</td>\n",
        "      <td> 0.935755</td>\n",
        "      <td> 0.145445</td>\n",
        "    </tr>\n",
        "  </tbody>\n",
        "</table>\n",
        "</div>"
       ],
       "output_type": "pyout",
       "prompt_number": 225,
       "text": [
        "            four       one     three       two\n",
        "titles                                        \n",
        "A       0.707182  0.589984  0.049796  0.298499\n",
        "B       0.490101  0.622402  0.119753  0.449194\n",
        "C       0.597078  0.278572  0.563097  0.612519\n",
        "D       0.665049  0.876800  0.726779  0.111396\n",
        "E       0.888272  0.855507  0.935755  0.145445"
       ]
      }
     ],
     "prompt_number": 225
    },
    {
     "cell_type": "code",
     "collapsed": false,
     "input": [
      "df.append(pd.DataFrame({'one': {'F':np_rand()}}))"
     ],
     "language": "python",
     "metadata": {},
     "outputs": [
      {
       "html": [
        "<div style=\"max-height:1000px;max-width:1500px;overflow:auto;\">\n",
        "<table border=\"1\" class=\"dataframe\">\n",
        "  <thead>\n",
        "    <tr style=\"text-align: right;\">\n",
        "      <th></th>\n",
        "      <th>four</th>\n",
        "      <th>one</th>\n",
        "      <th>three</th>\n",
        "      <th>two</th>\n",
        "    </tr>\n",
        "  </thead>\n",
        "  <tbody>\n",
        "    <tr>\n",
        "      <th>A</th>\n",
        "      <td> 0.707182</td>\n",
        "      <td> 0.589984</td>\n",
        "      <td> 0.049796</td>\n",
        "      <td> 0.298499</td>\n",
        "    </tr>\n",
        "    <tr>\n",
        "      <th>B</th>\n",
        "      <td> 0.490101</td>\n",
        "      <td> 0.622402</td>\n",
        "      <td> 0.119753</td>\n",
        "      <td> 0.449194</td>\n",
        "    </tr>\n",
        "    <tr>\n",
        "      <th>C</th>\n",
        "      <td> 0.597078</td>\n",
        "      <td> 0.278572</td>\n",
        "      <td> 0.563097</td>\n",
        "      <td> 0.612519</td>\n",
        "    </tr>\n",
        "    <tr>\n",
        "      <th>D</th>\n",
        "      <td> 0.665049</td>\n",
        "      <td> 0.876800</td>\n",
        "      <td> 0.726779</td>\n",
        "      <td> 0.111396</td>\n",
        "    </tr>\n",
        "    <tr>\n",
        "      <th>E</th>\n",
        "      <td> 0.888272</td>\n",
        "      <td> 0.855507</td>\n",
        "      <td> 0.935755</td>\n",
        "      <td> 0.145445</td>\n",
        "    </tr>\n",
        "    <tr>\n",
        "      <th>F</th>\n",
        "      <td>      NaN</td>\n",
        "      <td> 0.718645</td>\n",
        "      <td>      NaN</td>\n",
        "      <td>      NaN</td>\n",
        "    </tr>\n",
        "  </tbody>\n",
        "</table>\n",
        "</div>"
       ],
       "output_type": "pyout",
       "prompt_number": 226,
       "text": [
        "       four       one     three       two\n",
        "A  0.707182  0.589984  0.049796  0.298499\n",
        "B  0.490101  0.622402  0.119753  0.449194\n",
        "C  0.597078  0.278572  0.563097  0.612519\n",
        "D  0.665049  0.876800  0.726779  0.111396\n",
        "E  0.888272  0.855507  0.935755  0.145445\n",
        "F       NaN  0.718645       NaN       NaN"
       ]
      }
     ],
     "prompt_number": 226
    },
    {
     "cell_type": "code",
     "collapsed": false,
     "input": [
      "left = pd.DataFrame({'key': ['foo', 'foo'], 'lval': [1, 2]})\n",
      "left"
     ],
     "language": "python",
     "metadata": {},
     "outputs": [
      {
       "html": [
        "<div style=\"max-height:1000px;max-width:1500px;overflow:auto;\">\n",
        "<table border=\"1\" class=\"dataframe\">\n",
        "  <thead>\n",
        "    <tr style=\"text-align: right;\">\n",
        "      <th></th>\n",
        "      <th>key</th>\n",
        "      <th>lval</th>\n",
        "    </tr>\n",
        "  </thead>\n",
        "  <tbody>\n",
        "    <tr>\n",
        "      <th>0</th>\n",
        "      <td> foo</td>\n",
        "      <td> 1</td>\n",
        "    </tr>\n",
        "    <tr>\n",
        "      <th>1</th>\n",
        "      <td> foo</td>\n",
        "      <td> 2</td>\n",
        "    </tr>\n",
        "  </tbody>\n",
        "</table>\n",
        "</div>"
       ],
       "output_type": "pyout",
       "prompt_number": 227,
       "text": [
        "   key  lval\n",
        "0  foo     1\n",
        "1  foo     2"
       ]
      }
     ],
     "prompt_number": 227
    },
    {
     "cell_type": "code",
     "collapsed": false,
     "input": [
      "right = pd.DataFrame({'key': ['foo', 'bar'], 'rval': [4, 5]})\n",
      "right"
     ],
     "language": "python",
     "metadata": {},
     "outputs": [
      {
       "html": [
        "<div style=\"max-height:1000px;max-width:1500px;overflow:auto;\">\n",
        "<table border=\"1\" class=\"dataframe\">\n",
        "  <thead>\n",
        "    <tr style=\"text-align: right;\">\n",
        "      <th></th>\n",
        "      <th>key</th>\n",
        "      <th>rval</th>\n",
        "    </tr>\n",
        "  </thead>\n",
        "  <tbody>\n",
        "    <tr>\n",
        "      <th>0</th>\n",
        "      <td> foo</td>\n",
        "      <td> 4</td>\n",
        "    </tr>\n",
        "    <tr>\n",
        "      <th>1</th>\n",
        "      <td> bar</td>\n",
        "      <td> 5</td>\n",
        "    </tr>\n",
        "  </tbody>\n",
        "</table>\n",
        "</div>"
       ],
       "output_type": "pyout",
       "prompt_number": 228,
       "text": [
        "   key  rval\n",
        "0  foo     4\n",
        "1  bar     5"
       ]
      }
     ],
     "prompt_number": 228
    },
    {
     "cell_type": "code",
     "collapsed": false,
     "input": [
      "pd.merge(left, right, on='key')"
     ],
     "language": "python",
     "metadata": {},
     "outputs": [
      {
       "html": [
        "<div style=\"max-height:1000px;max-width:1500px;overflow:auto;\">\n",
        "<table border=\"1\" class=\"dataframe\">\n",
        "  <thead>\n",
        "    <tr style=\"text-align: right;\">\n",
        "      <th></th>\n",
        "      <th>key</th>\n",
        "      <th>lval</th>\n",
        "      <th>rval</th>\n",
        "    </tr>\n",
        "  </thead>\n",
        "  <tbody>\n",
        "    <tr>\n",
        "      <th>0</th>\n",
        "      <td> foo</td>\n",
        "      <td> 1</td>\n",
        "      <td> 4</td>\n",
        "    </tr>\n",
        "    <tr>\n",
        "      <th>1</th>\n",
        "      <td> foo</td>\n",
        "      <td> 2</td>\n",
        "      <td> 4</td>\n",
        "    </tr>\n",
        "  </tbody>\n",
        "</table>\n",
        "</div>"
       ],
       "output_type": "pyout",
       "prompt_number": 229,
       "text": [
        "   key  lval  rval\n",
        "0  foo     1     4\n",
        "1  foo     2     4"
       ]
      }
     ],
     "prompt_number": 229
    },
    {
     "cell_type": "code",
     "collapsed": false,
     "input": [
      "pd.merge(left, right, on='key', how='outer')"
     ],
     "language": "python",
     "metadata": {},
     "outputs": [
      {
       "html": [
        "<div style=\"max-height:1000px;max-width:1500px;overflow:auto;\">\n",
        "<table border=\"1\" class=\"dataframe\">\n",
        "  <thead>\n",
        "    <tr style=\"text-align: right;\">\n",
        "      <th></th>\n",
        "      <th>key</th>\n",
        "      <th>lval</th>\n",
        "      <th>rval</th>\n",
        "    </tr>\n",
        "  </thead>\n",
        "  <tbody>\n",
        "    <tr>\n",
        "      <th>0</th>\n",
        "      <td> foo</td>\n",
        "      <td>  1</td>\n",
        "      <td> 4</td>\n",
        "    </tr>\n",
        "    <tr>\n",
        "      <th>1</th>\n",
        "      <td> foo</td>\n",
        "      <td>  2</td>\n",
        "      <td> 4</td>\n",
        "    </tr>\n",
        "    <tr>\n",
        "      <th>2</th>\n",
        "      <td> bar</td>\n",
        "      <td>NaN</td>\n",
        "      <td> 5</td>\n",
        "    </tr>\n",
        "  </tbody>\n",
        "</table>\n",
        "</div>"
       ],
       "output_type": "pyout",
       "prompt_number": 230,
       "text": [
        "   key  lval  rval\n",
        "0  foo     1     4\n",
        "1  foo     2     4\n",
        "2  bar   NaN     5"
       ]
      }
     ],
     "prompt_number": 230
    },
    {
     "cell_type": "code",
     "collapsed": false,
     "input": [
      "df = pd.DataFrame(\n",
      "{'A' : ['foo', 'bar', 'foo', 'bar', 'foo', 'bar', 'foo', 'foo'],\n",
      "'B' : ['one', 'one', 'two', 'three', 'two', 'two', 'one', 'three'],\n",
      "'C' : np_rand(8), 'D' : np_rand(8)})"
     ],
     "language": "python",
     "metadata": {},
     "outputs": [],
     "prompt_number": 260
    },
    {
     "cell_type": "code",
     "collapsed": false,
     "input": [
      "df"
     ],
     "language": "python",
     "metadata": {},
     "outputs": [
      {
       "html": [
        "<div style=\"max-height:1000px;max-width:1500px;overflow:auto;\">\n",
        "<table border=\"1\" class=\"dataframe\">\n",
        "  <thead>\n",
        "    <tr style=\"text-align: right;\">\n",
        "      <th></th>\n",
        "      <th>A</th>\n",
        "      <th>B</th>\n",
        "      <th>C</th>\n",
        "      <th>D</th>\n",
        "    </tr>\n",
        "  </thead>\n",
        "  <tbody>\n",
        "    <tr>\n",
        "      <th>0</th>\n",
        "      <td> foo</td>\n",
        "      <td>   one</td>\n",
        "      <td> 0.495990</td>\n",
        "      <td> 0.331930</td>\n",
        "    </tr>\n",
        "    <tr>\n",
        "      <th>1</th>\n",
        "      <td> bar</td>\n",
        "      <td>   one</td>\n",
        "      <td> 0.398244</td>\n",
        "      <td> 0.323918</td>\n",
        "    </tr>\n",
        "    <tr>\n",
        "      <th>2</th>\n",
        "      <td> foo</td>\n",
        "      <td>   two</td>\n",
        "      <td> 0.204266</td>\n",
        "      <td> 0.855669</td>\n",
        "    </tr>\n",
        "    <tr>\n",
        "      <th>3</th>\n",
        "      <td> bar</td>\n",
        "      <td> three</td>\n",
        "      <td> 0.485499</td>\n",
        "      <td> 0.420315</td>\n",
        "    </tr>\n",
        "    <tr>\n",
        "      <th>4</th>\n",
        "      <td> foo</td>\n",
        "      <td>   two</td>\n",
        "      <td> 0.610156</td>\n",
        "      <td> 0.376586</td>\n",
        "    </tr>\n",
        "    <tr>\n",
        "      <th>5</th>\n",
        "      <td> bar</td>\n",
        "      <td>   two</td>\n",
        "      <td> 0.072728</td>\n",
        "      <td> 0.361670</td>\n",
        "    </tr>\n",
        "    <tr>\n",
        "      <th>6</th>\n",
        "      <td> foo</td>\n",
        "      <td>   one</td>\n",
        "      <td> 0.612177</td>\n",
        "      <td> 0.184050</td>\n",
        "    </tr>\n",
        "    <tr>\n",
        "      <th>7</th>\n",
        "      <td> foo</td>\n",
        "      <td> three</td>\n",
        "      <td> 0.390652</td>\n",
        "      <td> 0.435963</td>\n",
        "    </tr>\n",
        "  </tbody>\n",
        "</table>\n",
        "</div>"
       ],
       "output_type": "pyout",
       "prompt_number": 261,
       "text": [
        "     A      B         C         D\n",
        "0  foo    one  0.495990  0.331930\n",
        "1  bar    one  0.398244  0.323918\n",
        "2  foo    two  0.204266  0.855669\n",
        "3  bar  three  0.485499  0.420315\n",
        "4  foo    two  0.610156  0.376586\n",
        "5  bar    two  0.072728  0.361670\n",
        "6  foo    one  0.612177  0.184050\n",
        "7  foo  three  0.390652  0.435963"
       ]
      }
     ],
     "prompt_number": 261
    },
    {
     "cell_type": "code",
     "collapsed": false,
     "input": [
      "df.groupby('A').sum()"
     ],
     "language": "python",
     "metadata": {},
     "outputs": [
      {
       "html": [
        "<div style=\"max-height:1000px;max-width:1500px;overflow:auto;\">\n",
        "<table border=\"1\" class=\"dataframe\">\n",
        "  <thead>\n",
        "    <tr style=\"text-align: right;\">\n",
        "      <th></th>\n",
        "      <th>C</th>\n",
        "      <th>D</th>\n",
        "    </tr>\n",
        "    <tr>\n",
        "      <th>A</th>\n",
        "      <th></th>\n",
        "      <th></th>\n",
        "    </tr>\n",
        "  </thead>\n",
        "  <tbody>\n",
        "    <tr>\n",
        "      <th>bar</th>\n",
        "      <td> 2.300051</td>\n",
        "      <td> 1.166454</td>\n",
        "    </tr>\n",
        "    <tr>\n",
        "      <th>foo</th>\n",
        "      <td> 2.373314</td>\n",
        "      <td> 2.459929</td>\n",
        "    </tr>\n",
        "  </tbody>\n",
        "</table>\n",
        "</div>"
       ],
       "output_type": "pyout",
       "prompt_number": 233,
       "text": [
        "            C         D\n",
        "A                      \n",
        "bar  2.300051  1.166454\n",
        "foo  2.373314  2.459929"
       ]
      }
     ],
     "prompt_number": 233
    },
    {
     "cell_type": "code",
     "collapsed": false,
     "input": [
      "grouped = df.groupby(['A', 'B']).mean()"
     ],
     "language": "python",
     "metadata": {},
     "outputs": [],
     "prompt_number": 234
    },
    {
     "cell_type": "code",
     "collapsed": false,
     "input": [
      "df = grouped\n",
      "df"
     ],
     "language": "python",
     "metadata": {},
     "outputs": [
      {
       "html": [
        "<div style=\"max-height:1000px;max-width:1500px;overflow:auto;\">\n",
        "<table border=\"1\" class=\"dataframe\">\n",
        "  <thead>\n",
        "    <tr style=\"text-align: right;\">\n",
        "      <th></th>\n",
        "      <th></th>\n",
        "      <th>C</th>\n",
        "      <th>D</th>\n",
        "    </tr>\n",
        "    <tr>\n",
        "      <th>A</th>\n",
        "      <th>B</th>\n",
        "      <th></th>\n",
        "      <th></th>\n",
        "    </tr>\n",
        "  </thead>\n",
        "  <tbody>\n",
        "    <tr>\n",
        "      <th rowspan=\"3\" valign=\"top\">bar</th>\n",
        "      <th>one</th>\n",
        "      <td> 0.656903</td>\n",
        "      <td> 0.379976</td>\n",
        "    </tr>\n",
        "    <tr>\n",
        "      <th>three</th>\n",
        "      <td> 0.669258</td>\n",
        "      <td> 0.168383</td>\n",
        "    </tr>\n",
        "    <tr>\n",
        "      <th>two</th>\n",
        "      <td> 0.973890</td>\n",
        "      <td> 0.618096</td>\n",
        "    </tr>\n",
        "    <tr>\n",
        "      <th rowspan=\"3\" valign=\"top\">foo</th>\n",
        "      <th>one</th>\n",
        "      <td> 0.194161</td>\n",
        "      <td> 0.277831</td>\n",
        "    </tr>\n",
        "    <tr>\n",
        "      <th>three</th>\n",
        "      <td> 0.758649</td>\n",
        "      <td> 0.632601</td>\n",
        "    </tr>\n",
        "    <tr>\n",
        "      <th>two</th>\n",
        "      <td> 0.613172</td>\n",
        "      <td> 0.635833</td>\n",
        "    </tr>\n",
        "  </tbody>\n",
        "</table>\n",
        "</div>"
       ],
       "output_type": "pyout",
       "prompt_number": 235,
       "text": [
        "                  C         D\n",
        "A   B                        \n",
        "bar one    0.656903  0.379976\n",
        "    three  0.669258  0.168383\n",
        "    two    0.973890  0.618096\n",
        "foo one    0.194161  0.277831\n",
        "    three  0.758649  0.632601\n",
        "    two    0.613172  0.635833"
       ]
      }
     ],
     "prompt_number": 235
    },
    {
     "cell_type": "code",
     "collapsed": false,
     "input": [
      "stacked = df.stack()\n",
      "stacked"
     ],
     "language": "python",
     "metadata": {},
     "outputs": [
      {
       "output_type": "pyout",
       "prompt_number": 236,
       "text": [
        "A    B       \n",
        "bar  one    C    0.656903\n",
        "            D    0.379976\n",
        "     three  C    0.669258\n",
        "            D    0.168383\n",
        "     two    C    0.973890\n",
        "            D    0.618096\n",
        "foo  one    C    0.194161\n",
        "            D    0.277831\n",
        "     three  C    0.758649\n",
        "            D    0.632601\n",
        "     two    C    0.613172\n",
        "            D    0.635833"
       ]
      }
     ],
     "prompt_number": 236
    },
    {
     "cell_type": "code",
     "collapsed": false,
     "input": [
      "stacked.unstack([0,1])"
     ],
     "language": "python",
     "metadata": {},
     "outputs": [
      {
       "html": [
        "<div style=\"max-height:1000px;max-width:1500px;overflow:auto;\">\n",
        "<table border=\"1\" class=\"dataframe\">\n",
        "  <thead>\n",
        "    <tr>\n",
        "      <th>A</th>\n",
        "      <th colspan=\"3\" halign=\"left\">bar</th>\n",
        "      <th colspan=\"3\" halign=\"left\">foo</th>\n",
        "    </tr>\n",
        "    <tr>\n",
        "      <th>B</th>\n",
        "      <th>one</th>\n",
        "      <th>three</th>\n",
        "      <th>two</th>\n",
        "      <th>one</th>\n",
        "      <th>three</th>\n",
        "      <th>two</th>\n",
        "    </tr>\n",
        "  </thead>\n",
        "  <tbody>\n",
        "    <tr>\n",
        "      <th>C</th>\n",
        "      <td> 0.656903</td>\n",
        "      <td> 0.669258</td>\n",
        "      <td> 0.973890</td>\n",
        "      <td> 0.194161</td>\n",
        "      <td> 0.758649</td>\n",
        "      <td> 0.613172</td>\n",
        "    </tr>\n",
        "    <tr>\n",
        "      <th>D</th>\n",
        "      <td> 0.379976</td>\n",
        "      <td> 0.168383</td>\n",
        "      <td> 0.618096</td>\n",
        "      <td> 0.277831</td>\n",
        "      <td> 0.632601</td>\n",
        "      <td> 0.635833</td>\n",
        "    </tr>\n",
        "  </tbody>\n",
        "</table>\n",
        "</div>"
       ],
       "output_type": "pyout",
       "prompt_number": 237,
       "text": [
        "A       bar                           foo                    \n",
        "B       one     three       two       one     three       two\n",
        "C  0.656903  0.669258  0.973890  0.194161  0.758649  0.613172\n",
        "D  0.379976  0.168383  0.618096  0.277831  0.632601  0.635833"
       ]
      }
     ],
     "prompt_number": 237
    },
    {
     "cell_type": "code",
     "collapsed": false,
     "input": [
      "df.swaplevel(0, 1)"
     ],
     "language": "python",
     "metadata": {},
     "outputs": [
      {
       "html": [
        "<div style=\"max-height:1000px;max-width:1500px;overflow:auto;\">\n",
        "<table border=\"1\" class=\"dataframe\">\n",
        "  <thead>\n",
        "    <tr style=\"text-align: right;\">\n",
        "      <th></th>\n",
        "      <th></th>\n",
        "      <th>C</th>\n",
        "      <th>D</th>\n",
        "    </tr>\n",
        "    <tr>\n",
        "      <th>B</th>\n",
        "      <th>A</th>\n",
        "      <th></th>\n",
        "      <th></th>\n",
        "    </tr>\n",
        "  </thead>\n",
        "  <tbody>\n",
        "    <tr>\n",
        "      <th>one</th>\n",
        "      <th>bar</th>\n",
        "      <td> 0.656903</td>\n",
        "      <td> 0.379976</td>\n",
        "    </tr>\n",
        "    <tr>\n",
        "      <th>three</th>\n",
        "      <th>bar</th>\n",
        "      <td> 0.669258</td>\n",
        "      <td> 0.168383</td>\n",
        "    </tr>\n",
        "    <tr>\n",
        "      <th>two</th>\n",
        "      <th>bar</th>\n",
        "      <td> 0.973890</td>\n",
        "      <td> 0.618096</td>\n",
        "    </tr>\n",
        "    <tr>\n",
        "      <th>one</th>\n",
        "      <th>foo</th>\n",
        "      <td> 0.194161</td>\n",
        "      <td> 0.277831</td>\n",
        "    </tr>\n",
        "    <tr>\n",
        "      <th>three</th>\n",
        "      <th>foo</th>\n",
        "      <td> 0.758649</td>\n",
        "      <td> 0.632601</td>\n",
        "    </tr>\n",
        "    <tr>\n",
        "      <th>two</th>\n",
        "      <th>foo</th>\n",
        "      <td> 0.613172</td>\n",
        "      <td> 0.635833</td>\n",
        "    </tr>\n",
        "  </tbody>\n",
        "</table>\n",
        "</div>"
       ],
       "output_type": "pyout",
       "prompt_number": 238,
       "text": [
        "                  C         D\n",
        "B     A                      \n",
        "one   bar  0.656903  0.379976\n",
        "three bar  0.669258  0.168383\n",
        "two   bar  0.973890  0.618096\n",
        "one   foo  0.194161  0.277831\n",
        "three foo  0.758649  0.632601\n",
        "two   foo  0.613172  0.635833"
       ]
      }
     ],
     "prompt_number": 238
    },
    {
     "cell_type": "code",
     "collapsed": false,
     "input": [
      "stacked.swaplevel(0,2)"
     ],
     "language": "python",
     "metadata": {},
     "outputs": [
      {
       "output_type": "pyout",
       "prompt_number": 239,
       "text": [
        "   B      A  \n",
        "C  one    bar    0.656903\n",
        "D  one    bar    0.379976\n",
        "C  three  bar    0.669258\n",
        "D  three  bar    0.168383\n",
        "C  two    bar    0.973890\n",
        "D  two    bar    0.618096\n",
        "C  one    foo    0.194161\n",
        "D  one    foo    0.277831\n",
        "C  three  foo    0.758649\n",
        "D  three  foo    0.632601\n",
        "C  two    foo    0.613172\n",
        "D  two    foo    0.635833"
       ]
      }
     ],
     "prompt_number": 239
    },
    {
     "cell_type": "code",
     "collapsed": false,
     "input": [
      "df"
     ],
     "language": "python",
     "metadata": {},
     "outputs": [
      {
       "html": [
        "<div style=\"max-height:1000px;max-width:1500px;overflow:auto;\">\n",
        "<table border=\"1\" class=\"dataframe\">\n",
        "  <thead>\n",
        "    <tr style=\"text-align: right;\">\n",
        "      <th></th>\n",
        "      <th></th>\n",
        "      <th>C</th>\n",
        "      <th>D</th>\n",
        "    </tr>\n",
        "    <tr>\n",
        "      <th>A</th>\n",
        "      <th>B</th>\n",
        "      <th></th>\n",
        "      <th></th>\n",
        "    </tr>\n",
        "  </thead>\n",
        "  <tbody>\n",
        "    <tr>\n",
        "      <th rowspan=\"3\" valign=\"top\">bar</th>\n",
        "      <th>one</th>\n",
        "      <td> 0.656903</td>\n",
        "      <td> 0.379976</td>\n",
        "    </tr>\n",
        "    <tr>\n",
        "      <th>three</th>\n",
        "      <td> 0.669258</td>\n",
        "      <td> 0.168383</td>\n",
        "    </tr>\n",
        "    <tr>\n",
        "      <th>two</th>\n",
        "      <td> 0.973890</td>\n",
        "      <td> 0.618096</td>\n",
        "    </tr>\n",
        "    <tr>\n",
        "      <th rowspan=\"3\" valign=\"top\">foo</th>\n",
        "      <th>one</th>\n",
        "      <td> 0.194161</td>\n",
        "      <td> 0.277831</td>\n",
        "    </tr>\n",
        "    <tr>\n",
        "      <th>three</th>\n",
        "      <td> 0.758649</td>\n",
        "      <td> 0.632601</td>\n",
        "    </tr>\n",
        "    <tr>\n",
        "      <th>two</th>\n",
        "      <td> 0.613172</td>\n",
        "      <td> 0.635833</td>\n",
        "    </tr>\n",
        "  </tbody>\n",
        "</table>\n",
        "</div>"
       ],
       "output_type": "pyout",
       "prompt_number": 240,
       "text": [
        "                  C         D\n",
        "A   B                        \n",
        "bar one    0.656903  0.379976\n",
        "    three  0.669258  0.168383\n",
        "    two    0.973890  0.618096\n",
        "foo one    0.194161  0.277831\n",
        "    three  0.758649  0.632601\n",
        "    two    0.613172  0.635833"
       ]
      }
     ],
     "prompt_number": 240
    },
    {
     "cell_type": "code",
     "collapsed": false,
     "input": [
      "pd.pivot_table(df, values='C', rows=['A'], cols=['B'])"
     ],
     "language": "python",
     "metadata": {},
     "outputs": [
      {
       "html": [
        "<div style=\"max-height:1000px;max-width:1500px;overflow:auto;\">\n",
        "<table border=\"1\" class=\"dataframe\">\n",
        "  <thead>\n",
        "    <tr style=\"text-align: right;\">\n",
        "      <th>B</th>\n",
        "      <th>one</th>\n",
        "      <th>three</th>\n",
        "      <th>two</th>\n",
        "    </tr>\n",
        "    <tr>\n",
        "      <th>A</th>\n",
        "      <th></th>\n",
        "      <th></th>\n",
        "      <th></th>\n",
        "    </tr>\n",
        "  </thead>\n",
        "  <tbody>\n",
        "    <tr>\n",
        "      <th>bar</th>\n",
        "      <td> 0.398244</td>\n",
        "      <td> 0.485499</td>\n",
        "      <td> 0.072728</td>\n",
        "    </tr>\n",
        "    <tr>\n",
        "      <th>foo</th>\n",
        "      <td> 0.554084</td>\n",
        "      <td> 0.390652</td>\n",
        "      <td> 0.407211</td>\n",
        "    </tr>\n",
        "  </tbody>\n",
        "</table>\n",
        "</div>"
       ],
       "output_type": "pyout",
       "prompt_number": 263,
       "text": [
        "B         one     three       two\n",
        "A                                \n",
        "bar  0.398244  0.485499  0.072728\n",
        "foo  0.554084  0.390652  0.407211"
       ]
      }
     ],
     "prompt_number": 263
    },
    {
     "cell_type": "code",
     "collapsed": false,
     "input": [
      "# time series"
     ],
     "language": "python",
     "metadata": {},
     "outputs": [],
     "prompt_number": 241
    },
    {
     "cell_type": "code",
     "collapsed": false,
     "input": [
      "trange = pd.date_range('5/14/2013', periods=5, freq='M')"
     ],
     "language": "python",
     "metadata": {},
     "outputs": [],
     "prompt_number": 242
    },
    {
     "cell_type": "code",
     "collapsed": false,
     "input": [
      "ts = pd.Series(np_rand(len(trange)), index=trange)"
     ],
     "language": "python",
     "metadata": {},
     "outputs": [],
     "prompt_number": 243
    },
    {
     "cell_type": "code",
     "collapsed": false,
     "input": [
      "ts"
     ],
     "language": "python",
     "metadata": {},
     "outputs": [
      {
       "output_type": "pyout",
       "prompt_number": 244,
       "text": [
        "2013-05-31    0.168783\n",
        "2013-06-30    0.721146\n",
        "2013-07-31    0.306726\n",
        "2013-08-31    0.590648\n",
        "2013-09-30    0.422975\n",
        "Freq: M"
       ]
      }
     ],
     "prompt_number": 244
    },
    {
     "cell_type": "code",
     "collapsed": false,
     "input": [
      "ts['2013-05']"
     ],
     "language": "python",
     "metadata": {},
     "outputs": [
      {
       "output_type": "pyout",
       "prompt_number": 245,
       "text": [
        "2013-05-31    0.168783\n",
        "Freq: M"
       ]
      }
     ],
     "prompt_number": 245
    },
    {
     "cell_type": "code",
     "collapsed": false,
     "input": [
      "ts = pd.Series(randn(1000), index=pd.date_range('1/1/2000', periods=1000))"
     ],
     "language": "python",
     "metadata": {},
     "outputs": [],
     "prompt_number": 246
    },
    {
     "cell_type": "code",
     "collapsed": false,
     "input": [
      "ts['2001'].cumsum().plot()"
     ],
     "language": "python",
     "metadata": {},
     "outputs": [
      {
       "output_type": "pyout",
       "prompt_number": 247,
       "text": [
        "<matplotlib.axes.AxesSubplot at 0xb1f2060c>"
       ]
      },
      {
       "output_type": "display_data",
       "png": "[encoded data removed]"
      }
     ],
     "prompt_number": 247
    },
    {
     "cell_type": "code",
     "collapsed": false,
     "input": [
      "df = pd.DataFrame(randn(1000, 4), index=ts.index, columns=['A', 'B', 'C', 'D'])"
     ],
     "language": "python",
     "metadata": {},
     "outputs": [],
     "prompt_number": 248
    },
    {
     "cell_type": "code",
     "collapsed": false,
     "input": [
      "df.head(10)"
     ],
     "language": "python",
     "metadata": {},
     "outputs": [
      {
       "html": [
        "<div style=\"max-height:1000px;max-width:1500px;overflow:auto;\">\n",
        "<table border=\"1\" class=\"dataframe\">\n",
        "  <thead>\n",
        "    <tr style=\"text-align: right;\">\n",
        "      <th></th>\n",
        "      <th>A</th>\n",
        "      <th>B</th>\n",
        "      <th>C</th>\n",
        "      <th>D</th>\n",
        "    </tr>\n",
        "  </thead>\n",
        "  <tbody>\n",
        "    <tr>\n",
        "      <th>2000-01-01</th>\n",
        "      <td> 1.165213</td>\n",
        "      <td>-1.153195</td>\n",
        "      <td>-0.206904</td>\n",
        "      <td> 0.231895</td>\n",
        "    </tr>\n",
        "    <tr>\n",
        "      <th>2000-01-02</th>\n",
        "      <td> 0.628583</td>\n",
        "      <td> 0.333614</td>\n",
        "      <td> 0.441949</td>\n",
        "      <td>-0.861212</td>\n",
        "    </tr>\n",
        "    <tr>\n",
        "      <th>2000-01-03</th>\n",
        "      <td>-0.384930</td>\n",
        "      <td>-0.787641</td>\n",
        "      <td> 1.394383</td>\n",
        "      <td>-1.178925</td>\n",
        "    </tr>\n",
        "    <tr>\n",
        "      <th>2000-01-04</th>\n",
        "      <td>-0.847175</td>\n",
        "      <td> 2.805463</td>\n",
        "      <td>-2.801788</td>\n",
        "      <td> 0.281878</td>\n",
        "    </tr>\n",
        "    <tr>\n",
        "      <th>2000-01-05</th>\n",
        "      <td>-0.216192</td>\n",
        "      <td>-0.812156</td>\n",
        "      <td>-1.450981</td>\n",
        "      <td>-1.892050</td>\n",
        "    </tr>\n",
        "    <tr>\n",
        "      <th>2000-01-06</th>\n",
        "      <td>-0.293706</td>\n",
        "      <td> 1.244276</td>\n",
        "      <td>-0.965667</td>\n",
        "      <td>-2.149980</td>\n",
        "    </tr>\n",
        "    <tr>\n",
        "      <th>2000-01-07</th>\n",
        "      <td>-0.825430</td>\n",
        "      <td> 1.226989</td>\n",
        "      <td> 0.782502</td>\n",
        "      <td> 1.545281</td>\n",
        "    </tr>\n",
        "    <tr>\n",
        "      <th>2000-01-08</th>\n",
        "      <td>-0.898169</td>\n",
        "      <td> 0.111332</td>\n",
        "      <td> 2.559819</td>\n",
        "      <td>-0.645545</td>\n",
        "    </tr>\n",
        "    <tr>\n",
        "      <th>2000-01-09</th>\n",
        "      <td>-0.780186</td>\n",
        "      <td>-1.621042</td>\n",
        "      <td> 0.597175</td>\n",
        "      <td>-0.517009</td>\n",
        "    </tr>\n",
        "    <tr>\n",
        "      <th>2000-01-10</th>\n",
        "      <td> 1.534529</td>\n",
        "      <td>-1.695360</td>\n",
        "      <td> 0.781213</td>\n",
        "      <td>-2.113926</td>\n",
        "    </tr>\n",
        "  </tbody>\n",
        "</table>\n",
        "</div>"
       ],
       "output_type": "pyout",
       "prompt_number": 249,
       "text": [
        "                   A         B         C         D\n",
        "2000-01-01  1.165213 -1.153195 -0.206904  0.231895\n",
        "2000-01-02  0.628583  0.333614  0.441949 -0.861212\n",
        "2000-01-03 -0.384930 -0.787641  1.394383 -1.178925\n",
        "2000-01-04 -0.847175  2.805463 -2.801788  0.281878\n",
        "2000-01-05 -0.216192 -0.812156 -1.450981 -1.892050\n",
        "2000-01-06 -0.293706  1.244276 -0.965667 -2.149980\n",
        "2000-01-07 -0.825430  1.226989  0.782502  1.545281\n",
        "2000-01-08 -0.898169  0.111332  2.559819 -0.645545\n",
        "2000-01-09 -0.780186 -1.621042  0.597175 -0.517009\n",
        "2000-01-10  1.534529 -1.695360  0.781213 -2.113926"
       ]
      }
     ],
     "prompt_number": 249
    },
    {
     "cell_type": "code",
     "collapsed": false,
     "input": [
      "df[['A', 'B']].cumsum().plot()"
     ],
     "language": "python",
     "metadata": {},
     "outputs": [
      {
       "output_type": "pyout",
       "prompt_number": 250,
       "text": [
        "<matplotlib.axes.AxesSubplot at 0xb88adcc>"
       ]
      },
      {
       "output_type": "display_data",
       "png": "[encoded data removed]"
      }
     ],
     "prompt_number": 250
    },
    {
     "cell_type": "code",
     "collapsed": false,
     "input": [
      "df.to_csv('bar.csv')"
     ],
     "language": "python",
     "metadata": {},
     "outputs": [],
     "prompt_number": 251
    },
    {
     "cell_type": "code",
     "collapsed": false,
     "input": [
      "!head foo.csv"
     ],
     "language": "python",
     "metadata": {},
     "outputs": [
      {
       "output_type": "stream",
       "stream": "stdout",
       "text": [
        ",A,B,C,D\r\n",
        "2000-01-01 00:00:00,-0.065573240478616318,-0.85899309171545546,0.048828441904773645,0.74033027619368241\r\n",
        "2000-01-02 00:00:00,-1.2970878343733048,0.82624948942985876,-0.80424226810815602,2.8182146611842738\r\n",
        "2000-01-03 00:00:00,-1.0631525402070576,-0.92234631057280803,-0.067558187296302571,0.26432537174366344\r\n",
        "2000-01-04 00:00:00,0.27985449012347396,-0.72147521881912946,-0.74033213226520223,0.029741539946882577\r\n",
        "2000-01-05 00:00:00,0.68090520593403248,0.43408780940297631,0.41786536097057986,1.3090776191083409\r\n",
        "2000-01-06 00:00:00,0.93980793987359812,0.47675997847351592,0.61473808266779151,0.13975453834519919\r\n",
        "2000-01-07 00:00:00,0.25550922718506186,1.6766851903254667,0.47299168307266393,0.91552958689771435\r\n",
        "2000-01-08 00:00:00,0.52794761043910465,-1.2082647991875299,0.0047615932860102057,-0.95840258713537996\r\n",
        "2000-01-09 00:00:00,-0.28401952477519316,0.60851220213152102,0.15013895794775658,-0.49045598143149244\r\n"
       ]
      }
     ],
     "prompt_number": 252
    },
    {
     "cell_type": "code",
     "collapsed": false,
     "input": [
      "df = pd.read_csv('bar.csv')"
     ],
     "language": "python",
     "metadata": {},
     "outputs": [],
     "prompt_number": 253
    },
    {
     "cell_type": "code",
     "collapsed": false,
     "input": [
      "df"
     ],
     "language": "python",
     "metadata": {},
     "outputs": [
      {
       "output_type": "pyout",
       "prompt_number": 254,
       "text": [
        "<class 'pandas.core.frame.DataFrame'>\n",
        "Int64Index: 1000 entries, 0 to 999\n",
        "Data columns:\n",
        "Unnamed: 0    1000  non-null values\n",
        "A             1000  non-null values\n",
        "B             1000  non-null values\n",
        "C             1000  non-null values\n",
        "D             1000  non-null values\n",
        "dtypes: float64(4), object(1)"
       ]
      }
     ],
     "prompt_number": 254
    },
    {
     "cell_type": "code",
     "collapsed": false,
     "input": [
      "import MySQLdb"
     ],
     "language": "python",
     "metadata": {},
     "outputs": [],
     "prompt_number": 255
    },
    {
     "cell_type": "code",
     "collapsed": false,
     "input": [
      "c = MySQLdb.connect(user='root', host='localhost', db='db_name')"
     ],
     "language": "python",
     "metadata": {},
     "outputs": [],
     "prompt_number": 256
    },
    {
     "cell_type": "code",
     "collapsed": false,
     "input": [
      "import pandas.io.sql as sql"
     ],
     "language": "python",
     "metadata": {},
     "outputs": [],
     "prompt_number": 257
    },
    {
     "cell_type": "code",
     "collapsed": false,
     "input": [
      "df = sql.read_frame('select * from table', c)"
     ],
     "language": "python",
     "metadata": {},
     "outputs": [],
     "prompt_number": 258
    }
   ],
   "metadata": {}
  }
 ]
}